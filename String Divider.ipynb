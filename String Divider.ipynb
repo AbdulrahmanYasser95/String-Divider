{
 "cells": [
  {
   "cell_type": "markdown",
   "metadata": {},
   "source": [
    "<h1>String Divider</h1>"
   ]
  },
  {
   "cell_type": "markdown",
   "metadata": {},
   "source": [
    "<h2>Function</h2>\n",
    "<p style=\"font-size:18px\" >Given a string,<b>S</b> , of length <b>L</b> that is indexed from <b>0</b> to <b>N-1</b>, print its even-indexed and odd-indexed characters as <b>2</b> space-separated strings on a single line (see the Sample below for more detail).<br/>\n",
    "<b>Note:</b>\n",
    "<b>0</b> is considered to be an even index.</p>"
   ]
  },
  {
   "cell_type": "markdown",
   "metadata": {},
   "source": [
    "<h2>Input format</h2>\n",
    "<p style=\"font-size:18px\">The first line contains an integer, <b>T</b>(the number of test cases).\n",
    "Each line <b>i</b> of the subsequent lines contain a String, <b>S</b>.</p>"
   ]
  },
  {
   "cell_type": "markdown",
   "metadata": {},
   "source": [
    "<h2>Constraints</h2>\n",
    "<p style=\"font-size:18px\">1<=<b>T</b><=10</p>\n",
    "<p style=\"font-size:18px\">2<=<b>Length of S</b><=10000</p>"
   ]
  },
  {
   "cell_type": "markdown",
   "metadata": {},
   "source": [
    "<h2>Output Format</h2>\n",
    "<p style=\"font-size:18px\">For each String <b>S<sub>j</sub></b> (where 0<=<b>j</b><=<b>T</b>-1), print <b>S<sub>j</sub></b>'s even-indexed characters, followed by a space, followed by <b>S<sub>j</sub></b>'s odd-indexed characters. </p>"
   ]
  },
  {
   "cell_type": "markdown",
   "metadata": {},
   "source": [
    "<h2>Sample Input</h2>"
   ]
  },
  {
   "cell_type": "raw",
   "metadata": {},
   "source": [
    "2\n",
    "Hello\n",
    "World"
   ]
  },
  {
   "cell_type": "markdown",
   "metadata": {},
   "source": [
    "<h2>Output</h2>"
   ]
  },
  {
   "cell_type": "raw",
   "metadata": {},
   "source": [
    "Hlo el\n",
    "Wrd ol"
   ]
  },
  {
   "cell_type": "markdown",
   "metadata": {},
   "source": [
    "<h2>Code</h2>"
   ]
  },
  {
   "cell_type": "code",
   "execution_count": null,
   "metadata": {},
   "outputs": [],
   "source": [
    "# Enter your input here (Number of words followed by words), press enter between each input\n",
    "\n",
    "T = int(input())\n",
    "outStrIndx=0\n",
    "if (0<T<11):\n",
    "        outS=\"\"\n",
    "        for i in range(T):\n",
    "            inS=input()\n",
    "            inStrL=len(inS)\n",
    "            \n",
    "            if ((2<=inStrL)&(inStrL<=10000)):\n",
    "                \n",
    "                for inStrIndx in range(0,inStrL,2):\n",
    "                    if (inS[inStrIndx]!='\\0'):\n",
    "                        outS+=inS[inStrIndx]\n",
    "\n",
    "                outS+=' '\n",
    "\n",
    "                for inStrIndx in range (1,inStrL,2):\n",
    "                    \n",
    "                    if (inS[inStrIndx]!='\\0'):\n",
    "                        outS+=inS[inStrIndx]\n",
    "                        outStrIndx+=1\n",
    "\n",
    "                outS+='\\n'\n",
    "\n",
    "        print(outS)"
   ]
  }
 ],
 "metadata": {
  "kernelspec": {
   "display_name": "Python 3",
   "language": "python",
   "name": "python3"
  },
  "language_info": {
   "codemirror_mode": {
    "name": "ipython",
    "version": 3
   },
   "file_extension": ".py",
   "mimetype": "text/x-python",
   "name": "python",
   "nbconvert_exporter": "python",
   "pygments_lexer": "ipython3",
   "version": "3.7.1"
  }
 },
 "nbformat": 4,
 "nbformat_minor": 2
}
